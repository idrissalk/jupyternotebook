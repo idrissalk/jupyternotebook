{
 "cells": [
  {
   "cell_type": "markdown",
   "id": "38ff5b7b-e8f9-49ea-b672-7346e818c361",
   "metadata": {
    "tags": []
   },
   "source": [
    "# data science tolls and Ecosystem\n",
    "in this notebook , data science tolls and Ecosystem summarized\n",
    "\n",
    "some of the popular languages that data scientists use are :\n",
    "- python\n",
    "- R\n",
    "- SQL\n",
    "\n",
    "some of the commonly used libraries used by data scientists include :\n",
    "- pandas \n",
    "- NumPy\n",
    "- Matplotlib\n",
    "    \n",
    "   { data science tolls } \n",
    "   :------------------:\n",
    "     jupyter notebook\n",
    "     apache spark\n",
    "     apache hadoop\n",
    "     \n",
    "### below are a few exemples of evaluating artemetic expressions in python\n",
    "this simple arthemetic expression to mutiply then add integers \n",
    "   (3*4)+5\n",
    "   \n",
    "This will convert 200 minutes to hours by diving by 60 \n",
    "\n",
    "   \n",
    "   \n",
    "\n",
    "    \n",
    "    \n",
    "\n",
    "\n",
    "\n",
    "\n",
    "\n",
    "\n",
    "\n",
    "\n",
    "\n",
    "\n",
    "\n",
    "\n",
    "\n",
    "\n",
    "\n",
    "\n"
   ]
  },
  {
   "cell_type": "code",
   "execution_count": null,
   "id": "f27dd1af-e2b3-4e71-8359-45b85d2ed048",
   "metadata": {},
   "outputs": [],
   "source": []
  },
  {
   "cell_type": "code",
   "execution_count": null,
   "id": "22768b39-05f2-4d9d-8732-35ac98622faf",
   "metadata": {},
   "outputs": [],
   "source": []
  }
 ],
 "metadata": {
  "kernelspec": {
   "display_name": "Python",
   "language": "python",
   "name": "conda-env-python-py"
  },
  "language_info": {
   "codemirror_mode": {
    "name": "ipython",
    "version": 3
   },
   "file_extension": ".py",
   "mimetype": "text/x-python",
   "name": "python",
   "nbconvert_exporter": "python",
   "pygments_lexer": "ipython3",
   "version": "3.7.12"
  }
 },
 "nbformat": 4,
 "nbformat_minor": 5
}
